{
  "nbformat": 4,
  "nbformat_minor": 0,
  "metadata": {
    "colab": {
      "name": "RegexSoftware_Task2.ipynb",
      "provenance": [],
      "authorship_tag": "ABX9TyMA7bWpiLNbHg/vgbTOgqI+",
      "include_colab_link": true
    },
    "kernelspec": {
      "name": "python3",
      "display_name": "Python 3"
    },
    "language_info": {
      "name": "python"
    }
  },
  "cells": [
    {
      "cell_type": "markdown",
      "metadata": {
        "id": "view-in-github",
        "colab_type": "text"
      },
      "source": [
        "<a href=\"https://colab.research.google.com/github/vaibhavijadhav27/RegexSoftware_Task2/blob/main/RegexSoftware_Task2.ipynb\" target=\"_parent\"><img src=\"https://colab.research.google.com/assets/colab-badge.svg\" alt=\"Open In Colab\"/></a>"
      ]
    },
    {
      "cell_type": "markdown",
      "metadata": {
        "id": "hTr8hshBL3Pk"
      },
      "source": [
        "# **#TASK 2**\n",
        "# **Registration ID: SIRSS2278**\n",
        "\n",
        "# **Name: Vaibhavi Jadhav**\n"
      ]
    },
    {
      "cell_type": "markdown",
      "metadata": {
        "id": "C0eJlfpjNU29"
      },
      "source": [
        "**Q1. Write a lambda expression to extract first word of a string.**"
      ]
    },
    {
      "cell_type": "code",
      "metadata": {
        "colab": {
          "base_uri": "https://localhost:8080/",
          "height": 52
        },
        "id": "0mjTFrXnEpuW",
        "outputId": "7a474ec3-743b-442e-c45e-b1ff06ef2dd2"
      },
      "source": [
        "a = input(\"Enter the sentence: \") \n",
        "b = lambda str: str.split()[0]\n",
        "b(a)"
      ],
      "execution_count": null,
      "outputs": [
        {
          "output_type": "stream",
          "text": [
            "Enter the sentence: How dare you attack the son of Odin\n"
          ],
          "name": "stdout"
        },
        {
          "output_type": "execute_result",
          "data": {
            "application/vnd.google.colaboratory.intrinsic+json": {
              "type": "string"
            },
            "text/plain": [
              "'How'"
            ]
          },
          "metadata": {
            "tags": []
          },
          "execution_count": 1
        }
      ]
    },
    {
      "cell_type": "markdown",
      "metadata": {
        "id": "PSQsAGKDNgXd"
      },
      "source": [
        "**Q2. Write a function to extract first word of s string (with many words separated by space).**"
      ]
    },
    {
      "cell_type": "code",
      "metadata": {
        "colab": {
          "base_uri": "https://localhost:8080/"
        },
        "id": "yCEWT1C6IvDQ",
        "outputId": "9bc003f9-a4d1-4e2c-f7af-303b3b015339"
      },
      "source": [
        "def convert(listy):\n",
        "    print(listy[0])\n",
        "\n",
        "sent=input(\"Enter the sentence: \")\n",
        "list1=list(sent.split())\n",
        "convert(list1)"
      ],
      "execution_count": null,
      "outputs": [
        {
          "output_type": "stream",
          "text": [
            "Enter the sentence: Hello Asgard\n",
            "Hello\n"
          ],
          "name": "stdout"
        }
      ]
    },
    {
      "cell_type": "markdown",
      "metadata": {
        "id": "1cae6w1JN179"
      },
      "source": [
        "**Q3. Extract the first word from every string from a list of strings by using map function.**"
      ]
    },
    {
      "cell_type": "code",
      "metadata": {
        "colab": {
          "base_uri": "https://localhost:8080/"
        },
        "id": "irXS5B5kI1ii",
        "outputId": "284808a5-6bfe-461e-91ba-d7341fc35fde"
      },
      "source": [
        "Marvel = ['Captain America', 'Black Widow', 'Wanda Vision']\n",
        "list(map(lambda s: s.split()[0], Marvel))"
      ],
      "execution_count": null,
      "outputs": [
        {
          "output_type": "execute_result",
          "data": {
            "text/plain": [
              "['Captain', 'Black', 'Wanda']"
            ]
          },
          "metadata": {
            "tags": []
          },
          "execution_count": 3
        }
      ]
    },
    {
      "cell_type": "markdown",
      "metadata": {
        "id": "-Xem2pQuN92M"
      },
      "source": [
        "**Q4. Write a function to return a list of prime factors of a given number.**"
      ]
    },
    {
      "cell_type": "code",
      "metadata": {
        "colab": {
          "base_uri": "https://localhost:8080/"
        },
        "id": "8gs_e5RoI7RX",
        "outputId": "03a2869c-44a4-4486-d148-4bbb5234244d"
      },
      "source": [
        "def prime(x):\n",
        "    factors = []\n",
        "    divisor = 2\n",
        "    while divisor <= x:\n",
        "        if x%divisor == 0:\n",
        "            factors.append(divisor)\n",
        "            x = x/divisor \n",
        "        else:\n",
        "            divisor += 1 \n",
        "    return factors\n",
        "\n",
        "num = input('Enter the number: ')\n",
        "print(prime(int(num)))"
      ],
      "execution_count": null,
      "outputs": [
        {
          "output_type": "stream",
          "text": [
            "Enter the number: 70\n",
            "[2, 5, 7]\n"
          ],
          "name": "stdout"
        }
      ]
    },
    {
      "cell_type": "markdown",
      "metadata": {
        "id": "6JBhkhY6OLni"
      },
      "source": [
        "**Q5. Write a function that finds 2nd largest among 4 numbers (Repetitions are allowed, without sorting).**"
      ]
    },
    {
      "cell_type": "code",
      "metadata": {
        "colab": {
          "base_uri": "https://localhost:8080/"
        },
        "id": "JUYUesFNJjGg",
        "outputId": "6f37358d-731f-4d0c-b3a2-f7cd1014ca3e"
      },
      "source": [
        "def max_2(arr):\n",
        "    a = set(arr)\n",
        "    a = list(a)\n",
        "    b = max(a)\n",
        "    a.remove(b)\n",
        "    b = max(a)\n",
        "    return b\n",
        "\n",
        "l = input()\n",
        "l = l.split()\n",
        "l = list(map(int, l))\n",
        "print(max_2(l))"
      ],
      "execution_count": null,
      "outputs": [
        {
          "output_type": "stream",
          "text": [
            "10 8 80 90\n",
            "80\n"
          ],
          "name": "stdout"
        }
      ]
    }
  ]
}